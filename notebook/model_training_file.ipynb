{
 "cells": [
  {
   "cell_type": "markdown",
   "metadata": {},
   "source": [
    "# Import Libraries"
   ]
  },
  {
   "cell_type": "markdown",
   "metadata": {},
   "source": []
  },
  {
   "cell_type": "code",
   "execution_count": 41,
   "metadata": {},
   "outputs": [],
   "source": [
    "import pandas as pd\n",
    "import numpy as np\n",
    "import seaborn as sns\n",
    "import matplotlib.pyplot as plt\n",
    "from sklearn.preprocessing import OneHotEncoder, StandardScaler\n",
    "from sklearn.compose import ColumnTransformer\n",
    "from sklearn.linear_model import LinearRegression, Lasso, Ridge\n",
    "from sklearn.neighbors import KNeighborsRegressor\n",
    "from sklearn.tree import DecisionTreeRegressor\n",
    "from sklearn.ensemble import RandomForestRegressor, AdaBoostRegressor\n",
    "from sklearn.model_selection import RandomizedSearchCV, train_test_split\n",
    "from sklearn.svm import SVR\n",
    "from catboost import CatBoostRegressor # type: ignore\n",
    "from xgboost import XGBRegressor\n",
    "from sklearn.metrics import r2_score, mean_absolute_error, mean_squared_error\n",
    "#for ignore the warnings\n",
    "import warnings\n",
    "warnings.filterwarnings(\"ignore\")\n",
    "\n",
    "\n"
   ]
  },
  {
   "cell_type": "code",
   "execution_count": 25,
   "metadata": {},
   "outputs": [],
   "source": [
    "# !pip install catboost"
   ]
  },
  {
   "cell_type": "code",
   "execution_count": 26,
   "metadata": {},
   "outputs": [
    {
     "data": {
      "text/html": [
       "<div>\n",
       "<style scoped>\n",
       "    .dataframe tbody tr th:only-of-type {\n",
       "        vertical-align: middle;\n",
       "    }\n",
       "\n",
       "    .dataframe tbody tr th {\n",
       "        vertical-align: top;\n",
       "    }\n",
       "\n",
       "    .dataframe thead th {\n",
       "        text-align: right;\n",
       "    }\n",
       "</style>\n",
       "<table border=\"1\" class=\"dataframe\">\n",
       "  <thead>\n",
       "    <tr style=\"text-align: right;\">\n",
       "      <th></th>\n",
       "      <th>gender</th>\n",
       "      <th>race_ethnicity</th>\n",
       "      <th>parental_level_of_education</th>\n",
       "      <th>lunch</th>\n",
       "      <th>test_preparation_course</th>\n",
       "      <th>math_score</th>\n",
       "      <th>reading_score</th>\n",
       "      <th>writing_score</th>\n",
       "      <th>total_score</th>\n",
       "      <th>average_score</th>\n",
       "    </tr>\n",
       "  </thead>\n",
       "  <tbody>\n",
       "    <tr>\n",
       "      <th>0</th>\n",
       "      <td>female</td>\n",
       "      <td>group B</td>\n",
       "      <td>bachelor's degree</td>\n",
       "      <td>standard</td>\n",
       "      <td>none</td>\n",
       "      <td>72</td>\n",
       "      <td>72</td>\n",
       "      <td>74</td>\n",
       "      <td>216</td>\n",
       "      <td>72.0</td>\n",
       "    </tr>\n",
       "    <tr>\n",
       "      <th>1</th>\n",
       "      <td>female</td>\n",
       "      <td>group C</td>\n",
       "      <td>some college</td>\n",
       "      <td>standard</td>\n",
       "      <td>completed</td>\n",
       "      <td>69</td>\n",
       "      <td>90</td>\n",
       "      <td>88</td>\n",
       "      <td>249</td>\n",
       "      <td>83.0</td>\n",
       "    </tr>\n",
       "  </tbody>\n",
       "</table>\n",
       "</div>"
      ],
      "text/plain": [
       "   gender race_ethnicity parental_level_of_education     lunch  \\\n",
       "0  female        group B           bachelor's degree  standard   \n",
       "1  female        group C                some college  standard   \n",
       "\n",
       "  test_preparation_course  math_score  reading_score  writing_score  \\\n",
       "0                    none          72             72             74   \n",
       "1               completed          69             90             88   \n",
       "\n",
       "   total_score  average_score  \n",
       "0          216           72.0  \n",
       "1          249           83.0  "
      ]
     },
     "execution_count": 26,
     "metadata": {},
     "output_type": "execute_result"
    }
   ],
   "source": [
    "\n",
    "df = pd.read_csv(\"data/stud.csv\")\n",
    "\n",
    "df['total_score'] = df['reading_score'] + df['math_score'] + df['reading_score']\n",
    "\n",
    "df['average_score'] = round(df['total_score'] /3,2)\n",
    "df.head(2)"
   ]
  },
  {
   "cell_type": "markdown",
   "metadata": {},
   "source": [
    "# Predict the total score"
   ]
  },
  {
   "cell_type": "code",
   "execution_count": 27,
   "metadata": {},
   "outputs": [
    {
     "data": {
      "text/plain": [
       "(1000, 9)"
      ]
     },
     "execution_count": 27,
     "metadata": {},
     "output_type": "execute_result"
    }
   ],
   "source": [
    "X= df.drop(columns =['total_score'], axis = 1)\n",
    "X.shape"
   ]
  },
  {
   "cell_type": "code",
   "execution_count": 28,
   "metadata": {},
   "outputs": [
    {
     "data": {
      "text/plain": [
       "(1000,)"
      ]
     },
     "execution_count": 28,
     "metadata": {},
     "output_type": "execute_result"
    }
   ],
   "source": [
    "y= df['total_score']\n",
    "y.shape"
   ]
  },
  {
   "cell_type": "markdown",
   "metadata": {},
   "source": [
    "# Transformation of columns"
   ]
  },
  {
   "cell_type": "code",
   "execution_count": 29,
   "metadata": {},
   "outputs": [],
   "source": [
    "num_col = X.select_dtypes(exclude ='object').columns\n",
    "cat_col = X.select_dtypes(include= 'object').columns"
   ]
  },
  {
   "cell_type": "code",
   "execution_count": 30,
   "metadata": {},
   "outputs": [],
   "source": [
    "\n",
    "numeric_transformer = StandardScaler()\n",
    "oh_transformer = OneHotEncoder()\n",
    "\n",
    "preprocessor = ColumnTransformer(\n",
    "    [\n",
    "        (\"OneHotEncoder \", oh_transformer, cat_col),\n",
    "        (\"StandardScaler\", numeric_transformer, num_col)\n",
    "    ]\n",
    ")\n",
    "\n",
    "# Apply on the X dataset\n",
    "X = preprocessor.fit_transform(X)\n",
    "\n",
    "\n"
   ]
  },
  {
   "cell_type": "code",
   "execution_count": 31,
   "metadata": {},
   "outputs": [
    {
     "data": {
      "text/plain": [
       "(1000, 21)"
      ]
     },
     "execution_count": 31,
     "metadata": {},
     "output_type": "execute_result"
    }
   ],
   "source": [
    "X.shape"
   ]
  },
  {
   "cell_type": "code",
   "execution_count": 37,
   "metadata": {},
   "outputs": [
    {
     "data": {
      "text/plain": [
       "array(['OneHotEncoder __gender_female', 'OneHotEncoder __gender_male',\n",
       "       'OneHotEncoder __race_ethnicity_group A',\n",
       "       'OneHotEncoder __race_ethnicity_group B',\n",
       "       'OneHotEncoder __race_ethnicity_group C',\n",
       "       'OneHotEncoder __race_ethnicity_group D',\n",
       "       'OneHotEncoder __race_ethnicity_group E',\n",
       "       \"OneHotEncoder __parental_level_of_education_associate's degree\",\n",
       "       \"OneHotEncoder __parental_level_of_education_bachelor's degree\",\n",
       "       'OneHotEncoder __parental_level_of_education_high school',\n",
       "       \"OneHotEncoder __parental_level_of_education_master's degree\",\n",
       "       'OneHotEncoder __parental_level_of_education_some college',\n",
       "       'OneHotEncoder __parental_level_of_education_some high school',\n",
       "       'OneHotEncoder __lunch_free/reduced',\n",
       "       'OneHotEncoder __lunch_standard',\n",
       "       'OneHotEncoder __test_preparation_course_completed',\n",
       "       'OneHotEncoder __test_preparation_course_none',\n",
       "       'StandardScaler__math_score', 'StandardScaler__reading_score',\n",
       "       'StandardScaler__writing_score', 'StandardScaler__average_score'],\n",
       "      dtype=object)"
      ]
     },
     "execution_count": 37,
     "metadata": {},
     "output_type": "execute_result"
    }
   ],
   "source": [
    "preprocessor.get_feature_names_out()"
   ]
  },
  {
   "cell_type": "markdown",
   "metadata": {},
   "source": [
    "# Split the dataset into train and test"
   ]
  },
  {
   "cell_type": "code",
   "execution_count": null,
   "metadata": {},
   "outputs": [],
   "source": [
    "\n",
    "\n",
    "X_train, X_test, y_train, y_test = train_test_split(X,y, test_size= 0.2, random_state= 42)"
   ]
  },
  {
   "cell_type": "code",
   "execution_count": 39,
   "metadata": {},
   "outputs": [
    {
     "name": "stdout",
     "output_type": "stream",
     "text": [
      "Train shape (800, 21) (800,)\n",
      "Test shape (200, 21) (200,)\n"
     ]
    }
   ],
   "source": [
    "print(\"Train shape\", X_train.shape, y_train.shape)\n",
    "print(\"Test shape\", X_test.shape, y_test.shape)"
   ]
  },
  {
   "cell_type": "code",
   "execution_count": 44,
   "metadata": {},
   "outputs": [],
   "source": [
    "# Function for evaluation code\n",
    "\n",
    "def evaluate_model(true, predicted):\n",
    "    mae= mean_absolute_error(true, predicted)\n",
    "    mse = mean_squared_error(true, predicted)\n",
    "    rmse = np.sqrt(mean_squared_error(true, predicted))\n",
    "    r_squared = r2_score(true, predicted)\n",
    "    return mae,  rmse, r_squared \n"
   ]
  },
  {
   "cell_type": "code",
   "execution_count": 51,
   "metadata": {},
   "outputs": [
    {
     "name": "stdout",
     "output_type": "stream",
     "text": [
      "Linear Regression\n",
      "Model Prediction for Training set\n",
      " MAE: 0.0000\n",
      " RMSE: 0.0000\n",
      " R Squared: 1.0000\n",
      "----------------------------------------------\n",
      "Model Prediction for Test set\n",
      " MAE: 0.0000\n",
      " RMSE: 0.0000\n",
      " R Squared: 1.0000\n",
      "#############################################\n",
      "\n",
      "\n",
      "Lasso\n",
      "Model Prediction for Training set\n",
      " MAE: 0.8091\n",
      " RMSE: 1.0103\n",
      " R Squared: 0.9994\n",
      "----------------------------------------------\n",
      "Model Prediction for Test set\n",
      " MAE: 0.8504\n",
      " RMSE: 1.0629\n",
      " R Squared: 0.9994\n",
      "#############################################\n",
      "\n",
      "\n",
      "Ridge\n",
      "Model Prediction for Training set\n",
      " MAE: 0.0683\n",
      " RMSE: 0.0840\n",
      " R Squared: 1.0000\n",
      "----------------------------------------------\n",
      "Model Prediction for Test set\n",
      " MAE: 0.0781\n",
      " RMSE: 0.0967\n",
      " R Squared: 1.0000\n",
      "#############################################\n",
      "\n",
      "\n",
      "K-Neighbors Regressor\n",
      "Model Prediction for Training set\n",
      " MAE: 4.9125\n",
      " RMSE: 6.2935\n",
      " R Squared: 0.9776\n",
      "----------------------------------------------\n",
      "Model Prediction for Test set\n",
      " MAE: 6.2590\n",
      " RMSE: 8.7383\n",
      " R Squared: 0.9603\n",
      "#############################################\n",
      "\n",
      "\n",
      "Decision Tree\n",
      "Model Prediction for Training set\n",
      " MAE: 0.0000\n",
      " RMSE: 0.0000\n",
      " R Squared: 1.0000\n",
      "----------------------------------------------\n",
      "Model Prediction for Test set\n",
      " MAE: 0.3000\n",
      " RMSE: 1.6852\n",
      " R Squared: 0.9985\n",
      "#############################################\n",
      "\n",
      "\n",
      "Random Forest Regressor\n",
      "Model Prediction for Training set\n",
      " MAE: 0.0700\n",
      " RMSE: 0.3795\n",
      " R Squared: 0.9999\n",
      "----------------------------------------------\n",
      "Model Prediction for Test set\n",
      " MAE: 0.3117\n",
      " RMSE: 2.3528\n",
      " R Squared: 0.9971\n",
      "#############################################\n",
      "\n",
      "\n",
      "XGB Regressor\n",
      "Model Prediction for Training set\n",
      " MAE: 0.0293\n",
      " RMSE: 0.0425\n",
      " R Squared: 1.0000\n",
      "----------------------------------------------\n",
      "Model Prediction for Test set\n",
      " MAE: 0.4977\n",
      " RMSE: 1.8078\n",
      " R Squared: 0.9983\n",
      "#############################################\n",
      "\n",
      "\n",
      "CatBoost Regressor\n",
      "Model Prediction for Training set\n",
      " MAE: 0.3215\n",
      " RMSE: 0.3887\n",
      " R Squared: 0.9999\n",
      "----------------------------------------------\n",
      "Model Prediction for Test set\n",
      " MAE: 1.1134\n",
      " RMSE: 3.0446\n",
      " R Squared: 0.9952\n",
      "#############################################\n",
      "\n",
      "\n",
      "AdaBoost Regressor\n",
      "Model Prediction for Training set\n",
      " MAE: 2.0680\n",
      " RMSE: 2.6788\n",
      " R Squared: 0.9959\n",
      "----------------------------------------------\n",
      "Model Prediction for Test set\n",
      " MAE: 2.1942\n",
      " RMSE: 3.5441\n",
      " R Squared: 0.9935\n",
      "#############################################\n",
      "\n",
      "\n"
     ]
    }
   ],
   "source": [
    "models = {\n",
    "    \"Linear Regression\": LinearRegression(),\n",
    "    \"Lasso\": Lasso(),\n",
    "    \"Ridge\": Ridge(),\n",
    "    'K-Neighbors Regressor': KNeighborsRegressor(),\n",
    "    \"Decision Tree\": DecisionTreeRegressor(),\n",
    "    'Random Forest Regressor': RandomForestRegressor(),\n",
    "    \"XGB Regressor\": XGBRegressor(),\n",
    "    \"CatBoost Regressor\": CatBoostRegressor(verbose = False),\n",
    "    \"AdaBoost Regressor\": AdaBoostRegressor()\n",
    "\n",
    "}\n",
    "\n",
    "model_list = []\n",
    "r2_list = []\n",
    "\n",
    "for i in range(len(models)):\n",
    "    model = list(models.values())[i]\n",
    "    model.fit(X_train, y_train)\n",
    "\n",
    "    y_train_pred = model.predict(X_train)\n",
    "    y_test_pred = model.predict(X_test)\n",
    "\n",
    "    \n",
    "    model_train_mae , model_train_rmse, model_train_r_squared = evaluate_model(y_train,y_train_pred)\n",
    "    model_test_mae , model_test_rmse, model_test_r_squared = evaluate_model(y_test,y_test_pred)\n",
    "\n",
    "    print(list(models.keys())[i])\n",
    "    model_list.append(list(models.keys())[i])\n",
    "\n",
    "    print(\"Model Prediction for Training set\")\n",
    "    print(\" MAE: {:.4f}\".format(model_train_mae))\n",
    "    print(\" RMSE: {:.4f}\".format(model_train_rmse))\n",
    "    print(\" R Squared: {:.4f}\".format(model_train_r_squared))\n",
    "\n",
    "    print(\"----------------------------------------------\")\n",
    "\n",
    "    print(\"Model Prediction for Test set\")\n",
    "    print(\" MAE: {:.4f}\".format(model_test_mae))\n",
    "    print(\" RMSE: {:.4f}\".format(model_test_rmse))\n",
    "    print(\" R Squared: {:.4f}\".format(model_test_r_squared))\n",
    "    r2_list.append(model_test_r_squared)\n",
    "\n",
    "    print('#'*45)\n",
    "    print('\\n')\n",
    "\n",
    "\n",
    "\n",
    "\n",
    "    "
   ]
  },
  {
   "cell_type": "code",
   "execution_count": 53,
   "metadata": {},
   "outputs": [
    {
     "data": {
      "text/plain": [
       "[1.0,\n",
       " 0.9994125177689851,\n",
       " 0.9999951329806348,\n",
       " 0.9602957810348031,\n",
       " 0.9985232683254212,\n",
       " 0.9971216349561939,\n",
       " 0.9983007279818399,\n",
       " 0.9951799975586907,\n",
       " 0.9934687214333147]"
      ]
     },
     "execution_count": 53,
     "metadata": {},
     "output_type": "execute_result"
    }
   ],
   "source": [
    "r2_list"
   ]
  },
  {
   "cell_type": "code",
   "execution_count": 54,
   "metadata": {},
   "outputs": [
    {
     "data": {
      "text/html": [
       "<div>\n",
       "<style scoped>\n",
       "    .dataframe tbody tr th:only-of-type {\n",
       "        vertical-align: middle;\n",
       "    }\n",
       "\n",
       "    .dataframe tbody tr th {\n",
       "        vertical-align: top;\n",
       "    }\n",
       "\n",
       "    .dataframe thead th {\n",
       "        text-align: right;\n",
       "    }\n",
       "</style>\n",
       "<table border=\"1\" class=\"dataframe\">\n",
       "  <thead>\n",
       "    <tr style=\"text-align: right;\">\n",
       "      <th></th>\n",
       "      <th>Model Name</th>\n",
       "      <th>R2_Score</th>\n",
       "    </tr>\n",
       "  </thead>\n",
       "  <tbody>\n",
       "    <tr>\n",
       "      <th>0</th>\n",
       "      <td>Linear Regression</td>\n",
       "      <td>1.000000</td>\n",
       "    </tr>\n",
       "    <tr>\n",
       "      <th>2</th>\n",
       "      <td>Ridge</td>\n",
       "      <td>0.999995</td>\n",
       "    </tr>\n",
       "    <tr>\n",
       "      <th>1</th>\n",
       "      <td>Lasso</td>\n",
       "      <td>0.999413</td>\n",
       "    </tr>\n",
       "    <tr>\n",
       "      <th>4</th>\n",
       "      <td>Decision Tree</td>\n",
       "      <td>0.998523</td>\n",
       "    </tr>\n",
       "    <tr>\n",
       "      <th>6</th>\n",
       "      <td>XGB Regressor</td>\n",
       "      <td>0.998301</td>\n",
       "    </tr>\n",
       "    <tr>\n",
       "      <th>5</th>\n",
       "      <td>Random Forest Regressor</td>\n",
       "      <td>0.997122</td>\n",
       "    </tr>\n",
       "    <tr>\n",
       "      <th>7</th>\n",
       "      <td>CatBoost Regressor</td>\n",
       "      <td>0.995180</td>\n",
       "    </tr>\n",
       "    <tr>\n",
       "      <th>8</th>\n",
       "      <td>AdaBoost Regressor</td>\n",
       "      <td>0.993469</td>\n",
       "    </tr>\n",
       "    <tr>\n",
       "      <th>3</th>\n",
       "      <td>K-Neighbors Regressor</td>\n",
       "      <td>0.960296</td>\n",
       "    </tr>\n",
       "  </tbody>\n",
       "</table>\n",
       "</div>"
      ],
      "text/plain": [
       "                Model Name  R2_Score\n",
       "0        Linear Regression  1.000000\n",
       "2                    Ridge  0.999995\n",
       "1                    Lasso  0.999413\n",
       "4            Decision Tree  0.998523\n",
       "6            XGB Regressor  0.998301\n",
       "5  Random Forest Regressor  0.997122\n",
       "7       CatBoost Regressor  0.995180\n",
       "8       AdaBoost Regressor  0.993469\n",
       "3    K-Neighbors Regressor  0.960296"
      ]
     },
     "execution_count": 54,
     "metadata": {},
     "output_type": "execute_result"
    }
   ],
   "source": [
    "pd.DataFrame(list(zip(model_list, r2_list)),columns = ['Model Name', 'R2_Score'] ).sort_values(by=['R2_Score'], ascending=False)"
   ]
  },
  {
   "cell_type": "code",
   "execution_count": 58,
   "metadata": {},
   "outputs": [
    {
     "name": "stdout",
     "output_type": "stream",
     "text": [
      "Accuracy of Linear regression Model is 100.00\n"
     ]
    }
   ],
   "source": [
    "# Linear model showing highest r2 will go with that and predict it seprately\n",
    "\n",
    "lr = LinearRegression()\n",
    "lr.fit(X_train, y_train)\n",
    "\n",
    "y_pred = lr.predict(X_test)\n",
    "score = r2_score(y_test, y_pred)*100\n",
    "print(\"Accuracy of Linear regression Model is %.2f\"%score)"
   ]
  },
  {
   "cell_type": "code",
   "execution_count": 61,
   "metadata": {},
   "outputs": [
    {
     "data": {
      "image/png": "[encoded data removed]",
      "text/plain": [
       "<Figure size 640x480 with 1 Axes>"
      ]
     },
     "metadata": {},
     "output_type": "display_data"
    }
   ],
   "source": [
    "sns.scatterplot(x=y_test, y=y_pred)\n",
    "plt.xlabel(\"True Values\")\n",
    "plt.ylabel(\"Predicted Values\")\n",
    "plt.show()"
   ]
  },
  {
   "cell_type": "code",
   "execution_count": 66,
   "metadata": {},
   "outputs": [
    {
     "data": {
      "text/plain": [
       "<Axes: xlabel='total_score'>"
      ]
     },
     "execution_count": 66,
     "metadata": {},
     "output_type": "execute_result"
    },
    {
     "data": {
      "image/png": "[encoded data removed]",
      "text/plain": [
       "<Figure size 640x480 with 1 Axes>"
      ]
     },
     "metadata": {},
     "output_type": "display_data"
    }
   ],
   "source": [
    "sns.regplot(x=y_test, y=y_pred,color='black')"
   ]
  },
  {
   "cell_type": "code",
   "execution_count": 68,
   "metadata": {},
   "outputs": [
    {
     "data": {
      "text/html": [
       "<div>\n",
       "<style scoped>\n",
       "    .dataframe tbody tr th:only-of-type {\n",
       "        vertical-align: middle;\n",
       "    }\n",
       "\n",
       "    .dataframe tbody tr th {\n",
       "        vertical-align: top;\n",
       "    }\n",
       "\n",
       "    .dataframe thead th {\n",
       "        text-align: right;\n",
       "    }\n",
       "</style>\n",
       "<table border=\"1\" class=\"dataframe\">\n",
       "  <thead>\n",
       "    <tr style=\"text-align: right;\">\n",
       "      <th></th>\n",
       "      <th>Actual Value</th>\n",
       "      <th>Predicted Values</th>\n",
       "      <th>Difference</th>\n",
       "    </tr>\n",
       "  </thead>\n",
       "  <tbody>\n",
       "    <tr>\n",
       "      <th>521</th>\n",
       "      <td>263</td>\n",
       "      <td>263</td>\n",
       "      <td>-5.684342e-14</td>\n",
       "    </tr>\n",
       "    <tr>\n",
       "      <th>737</th>\n",
       "      <td>185</td>\n",
       "      <td>185</td>\n",
       "      <td>2.842171e-14</td>\n",
       "    </tr>\n",
       "    <tr>\n",
       "      <th>740</th>\n",
       "      <td>226</td>\n",
       "      <td>226</td>\n",
       "      <td>0.000000e+00</td>\n",
       "    </tr>\n",
       "    <tr>\n",
       "      <th>660</th>\n",
       "      <td>228</td>\n",
       "      <td>228</td>\n",
       "      <td>-2.842171e-14</td>\n",
       "    </tr>\n",
       "    <tr>\n",
       "      <th>411</th>\n",
       "      <td>250</td>\n",
       "      <td>250</td>\n",
       "      <td>-2.842171e-14</td>\n",
       "    </tr>\n",
       "    <tr>\n",
       "      <th>...</th>\n",
       "      <td>...</td>\n",
       "      <td>...</td>\n",
       "      <td>...</td>\n",
       "    </tr>\n",
       "    <tr>\n",
       "      <th>408</th>\n",
       "      <td>166</td>\n",
       "      <td>166</td>\n",
       "      <td>5.684342e-14</td>\n",
       "    </tr>\n",
       "    <tr>\n",
       "      <th>332</th>\n",
       "      <td>174</td>\n",
       "      <td>174</td>\n",
       "      <td>5.684342e-14</td>\n",
       "    </tr>\n",
       "    <tr>\n",
       "      <th>208</th>\n",
       "      <td>236</td>\n",
       "      <td>236</td>\n",
       "      <td>0.000000e+00</td>\n",
       "    </tr>\n",
       "    <tr>\n",
       "      <th>613</th>\n",
       "      <td>219</td>\n",
       "      <td>219</td>\n",
       "      <td>0.000000e+00</td>\n",
       "    </tr>\n",
       "    <tr>\n",
       "      <th>78</th>\n",
       "      <td>209</td>\n",
       "      <td>209</td>\n",
       "      <td>0.000000e+00</td>\n",
       "    </tr>\n",
       "  </tbody>\n",
       "</table>\n",
       "<p>200 rows × 3 columns</p>\n",
       "</div>"
      ],
      "text/plain": [
       "     Actual Value  Predicted Values    Difference\n",
       "521           263               263 -5.684342e-14\n",
       "737           185               185  2.842171e-14\n",
       "740           226               226  0.000000e+00\n",
       "660           228               228 -2.842171e-14\n",
       "411           250               250 -2.842171e-14\n",
       "..            ...               ...           ...\n",
       "408           166               166  5.684342e-14\n",
       "332           174               174  5.684342e-14\n",
       "208           236               236  0.000000e+00\n",
       "613           219               219  0.000000e+00\n",
       "78            209               209  0.000000e+00\n",
       "\n",
       "[200 rows x 3 columns]"
      ]
     },
     "execution_count": 68,
     "metadata": {},
     "output_type": "execute_result"
    }
   ],
   "source": [
    "#Difference bt actaul and predictd\n",
    "\n",
    "pred_df = pd.DataFrame({'Actual Value': y_test,\n",
    "                        'Predicted Values': y_test ,\n",
    "                        'Difference': y_test - y_pred})\n",
    "pred_df"
   ]
  },
  {
   "cell_type": "code",
   "execution_count": null,
   "metadata": {},
   "outputs": [],
   "source": []
  }
 ],
 "metadata": {
  "kernelspec": {
   "display_name": "base",
   "language": "python",
   "name": "python3"
  },
  "language_info": {
   "codemirror_mode": {
    "name": "ipython",
    "version": 3
   },
   "file_extension": ".py",
   "mimetype": "text/x-python",
   "name": "python",
   "nbconvert_exporter": "python",
   "pygments_lexer": "ipython3",
   "version": "3.11.7"
  }
 },
 "nbformat": 4,
 "nbformat_minor": 2
}
